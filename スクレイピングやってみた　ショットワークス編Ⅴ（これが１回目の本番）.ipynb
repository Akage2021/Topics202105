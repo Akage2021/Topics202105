{
 "cells": [
  {
   "cell_type": "markdown",
   "metadata": {},
   "source": [
    "▮締め切りもあるので、今回は一旦これで行う。不足の部分はエクセル上の加工で対応する。"
   ]
  },
  {
   "cell_type": "code",
   "execution_count": 3,
   "metadata": {},
   "outputs": [
    {
     "output_type": "stream",
     "name": "stdout",
     "text": [
      "[['埼玉県桶川市大字川田谷３２１２−１'],\n",
      " ['埼玉県桶川市大字川田谷３２１２−１'],\n",
      " ['埼玉県桶川市大字川田谷３２１２−１'],\n",
      " ['茨城県つくば市稲荷前２２−７'],\n",
      " ['東京都中野区中央2丁目1−8'],\n",
      " ['東京都大田区中央８丁目２８−４'],\n",
      " ['大阪府大阪市東住吉区杭全５丁目１２－４'],\n",
      " ['東京都台東区蔵前３丁目13番12号'],\n",
      " ['東京都台東区蔵前３丁目13番12号'],\n",
      " ['東京都台東区蔵前３丁目13番12号']]\n",
      "[['セブンイレブン桶川川田谷店'],\n",
      " ['セブンイレブン桶川川田谷店'],\n",
      " ['セブンイレブン桶川川田谷店'],\n",
      " ['セブンイレブンつくば稲荷前店'],\n",
      " ['セブンイレブン中野坂上駅前店'],\n",
      " ['セブンイレブン大田区中央8丁目店'],\n",
      " ['セブンイレブン大阪杭全５丁目店'],\n",
      " ['セブンイレブン台東蔵前３丁目店'],\n",
      " ['セブンイレブン台東蔵前３丁目店'],\n",
      " ['セブンイレブン台東蔵前３丁目店']]\n",
      "[['2021年04月01日（木）13:00〜17:00（実働04時間00分）'],\n",
      " ['2021年04月06日（火）13:00〜17:00（実働04時間00分）'],\n",
      " ['2021年04月08日（木）13:00〜17:00（実働04時間00分）'],\n",
      " ['2021年03月25日（木）19:00〜22:00（実働03時間00分）'],\n",
      " ['2021年03月27日（土）08:00〜13:00（実働04時間45分）'],\n",
      " ['2021年03月25日（木）22:00〜06:00（実働07時間00分）'],\n",
      " ['2021年03月27日（土）22:00〜06:00（実働07時間15分）'],\n",
      " ['2021年03月27日（土）17:00〜22:00（実働05時間00分）'],\n",
      " ['2021年03月29日（月）08:00〜13:00（実働05時間00分）'],\n",
      " ['2021年03月29日（月）13:00〜17:00（実働04時間00分）']]\n",
      "                      住所                 店舗名  \\\n",
      "0    [埼玉県桶川市大字川田谷３２１２−１]     [セブンイレブン桶川川田谷店]   \n",
      "1    [埼玉県桶川市大字川田谷３２１２−１]     [セブンイレブン桶川川田谷店]   \n",
      "2    [埼玉県桶川市大字川田谷３２１２−１]     [セブンイレブン桶川川田谷店]   \n",
      "3       [茨城県つくば市稲荷前２２−７]    [セブンイレブンつくば稲荷前店]   \n",
      "4       [東京都中野区中央2丁目1−8]    [セブンイレブン中野坂上駅前店]   \n",
      "5      [東京都大田区中央８丁目２８−４]  [セブンイレブン大田区中央8丁目店]   \n",
      "6  [大阪府大阪市東住吉区杭全５丁目１２－４]   [セブンイレブン大阪杭全５丁目店]   \n",
      "7    [東京都台東区蔵前３丁目13番12号]   [セブンイレブン台東蔵前３丁目店]   \n",
      "8    [東京都台東区蔵前３丁目13番12号]   [セブンイレブン台東蔵前３丁目店]   \n",
      "9    [東京都台東区蔵前３丁目13番12号]   [セブンイレブン台東蔵前３丁目店]   \n",
      "\n",
      "                                      募集日  \n",
      "0  [2021年04月01日（木）13:00〜17:00（実働04時間00分）]  \n",
      "1  [2021年04月06日（火）13:00〜17:00（実働04時間00分）]  \n",
      "2  [2021年04月08日（木）13:00〜17:00（実働04時間00分）]  \n",
      "3  [2021年03月25日（木）19:00〜22:00（実働03時間00分）]  \n",
      "4  [2021年03月27日（土）08:00〜13:00（実働04時間45分）]  \n",
      "5  [2021年03月25日（木）22:00〜06:00（実働07時間00分）]  \n",
      "6  [2021年03月27日（土）22:00〜06:00（実働07時間15分）]  \n",
      "7  [2021年03月27日（土）17:00〜22:00（実働05時間00分）]  \n",
      "8  [2021年03月29日（月）08:00〜13:00（実働05時間00分）]  \n",
      "9  [2021年03月29日（月）13:00〜17:00（実働04時間00分）]  \n"
     ]
    }
   ],
   "source": [
    "#12月3日急にエラーがでるようになった。→家のWIFIのせいだと判明。電波の繋がり具合？aをgにしたら動作した。\n",
    "import csv\n",
    "import time\n",
    "import urllib\n",
    "import requests\n",
    "import pprint\n",
    "import random\n",
    "from bs4 import BeautifulSoup\n",
    "\n",
    "place_list=[]\n",
    "store_list=[]\n",
    "daytime_list=[]\n",
    "item_list = []\n",
    "\n",
    "alfa=780001 #770001からはしばらく5000件づつにしてみる（10000件だと夜2：00～朝9：00までの間に終わらないため）\n",
    "#4月7日時点までは788000まで求人あり\n",
    "#次は780001から実行\n",
    "for i in range(10):\n",
    "    request_interval =2 # ページ取得間隔\n",
    "    load_url = 'https://convini.shotworks.jp/work/{}'.format(alfa)\n",
    "    html = requests.get(load_url)\n",
    "    soup = BeautifulSoup(html.content, \"html.parser\")\n",
    "    \n",
    "    place=soup.find_all(\"td\",class_=\"p-data-table__item\")[24]\n",
    "    place_t_a=place.text\n",
    "    place_t_b=place_t_a.replace(\"\\n\",\"\")\n",
    "    place_t_c=place_t_b.replace(\" \",\"\")\n",
    "    place_t=place_t_c.replace(\"MAP\",\"\")\n",
    "    place_list.append([place_t]) \n",
    "    \n",
    "    store=soup.find(\"div\",class_=\"work-box__store__name\")\n",
    "    store_t_a=store.text\n",
    "    store_t_b=store_t_a.replace(\"\\n\",\"\")\n",
    "    store_t=store_t_b.replace(\" \",\"\")\n",
    "    store_list.append([store_t])\n",
    "    \n",
    "    daytime=soup.find_all(\"td\",class_=\"p-data-table__item\")[0]\n",
    "    daytime_t_a=daytime.text\n",
    "    daytime_t_b=daytime_t_a.replace(\"\\n\",\"\")\n",
    "    daytime_t=daytime_t_b.replace(\" \",\"\")\n",
    "    daytime_list.append([daytime_t])\n",
    "    \n",
    "    alfa+=1\n",
    "    \n",
    "    time.sleep(request_interval)\n",
    "    \n",
    "pprint.pprint(place_list)\n",
    "pprint.pprint(store_list)\n",
    "pprint.pprint(daytime_list)\n",
    "\n",
    "\n",
    "import pandas as pd\n",
    "df=pd.DataFrame([place_list,store_list,daytime_list],index=['住所','店舗名','募集日'])\n",
    "\n",
    "print(df.T)\n",
    "df.T.to_csv('sw_list_780001_780010.csv', encoding=\"utf_8_sig\", index=False)"
   ]
  },
  {
   "cell_type": "code",
   "execution_count": null,
   "metadata": {},
   "outputs": [],
   "source": []
  }
 ],
 "metadata": {
  "kernelspec": {
   "name": "python385jvsc74a57bd0a892350f359ee7e3fa113fe7e27407e3429ea4dffc1467486d5256f7a2a637f2",
   "display_name": "Python 3.8.5 64-bit ('ai-set3.8.5': conda)"
  },
  "language_info": {
   "codemirror_mode": {
    "name": "ipython",
    "version": 3
   },
   "file_extension": ".py",
   "mimetype": "text/x-python",
   "name": "python",
   "nbconvert_exporter": "python",
   "pygments_lexer": "ipython3",
   "version": "3.8.5"
  },
  "metadata": {
   "interpreter": {
    "hash": "a892350f359ee7e3fa113fe7e27407e3429ea4dffc1467486d5256f7a2a637f2"
   }
  }
 },
 "nbformat": 4,
 "nbformat_minor": 4
}